{
  "nbformat": 4,
  "nbformat_minor": 0,
  "metadata": {
    "colab": {
      "name": "_C.ipynb",
      "provenance": [],
      "collapsed_sections": []
    },
    "kernelspec": {
      "name": "python3",
      "display_name": "Python 3"
    },
    "language_info": {
      "name": "python"
    },
    "accelerator": "GPU"
  },
  "cells": [
    {
      "cell_type": "code",
      "metadata": {
        "id": "V3w6pE8XLewl"
      },
      "source": [
        "\n",
        "import torchvision\n",
        "from sklearn import model_selection\n",
        "from torch.utils.data import random_split\n",
        "import torchvision.transforms as transforms\n",
        "from sklearn import metrics\n",
        "import torch\n",
        "import torch.nn as nn\n",
        "import torch.optim as optim\n",
        "import torch.nn as nn\n",
        "from sklearn import linear_model\n",
        "from sklearn.metrics import accuracy_score\n",
        "\n"
      ],
      "execution_count": null,
      "outputs": []
    },
    {
      "cell_type": "code",
      "metadata": {
        "colab": {
          "base_uri": "https://localhost:8080/"
        },
        "id": "bQr9_FbkLfPv",
        "outputId": "211edc8e-d0e7-4a84-cc7a-ac707f5dd866"
      },
      "source": [
        "#Creating Transform to make changes in the images \n",
        "#Here we give sizes\n",
        "transform = transforms.Compose([transforms.Resize(256),transforms.CenterCrop(224),transforms.ToTensor(),\n",
        "                                transforms.Normalize(mean=[0.485, 0.456, 0.406], std=[0.229, 0.224, 0.225]),])\n",
        "\n",
        "\n",
        "#Training Data \n",
        "X_train = torchvision.datasets.CIFAR10(root='./data', train=True, download=True, transform=transform)\n",
        "print(\"Training Data\",len(X_train))\n",
        "#Spliting into validation data as well\n",
        "X_train, validation_data = random_split(X_train, [40000, 10000])\n",
        "y_train = torch.utils.data.DataLoader(X_train, shuffle=True, batch_size=4, num_workers=2)\n",
        "validation_loader = torch.utils.data.DataLoader(validation_data, batch_size=4, shuffle=True, num_workers=2)\n",
        "\n",
        "#Test data\n",
        "X_test = torchvision.datasets.CIFAR10(root='./data', train=False, download=True, transform=transform)\n",
        "y_test = torch.utils.data.DataLoader(X_test, shuffle=False,batch_size=4,  num_workers=2)\n",
        "\n",
        "\n"
      ],
      "execution_count": null,
      "outputs": [
        {
          "output_type": "stream",
          "text": [
            "Files already downloaded and verified\n",
            "Training Data 50000\n",
            "Files already downloaded and verified\n"
          ],
          "name": "stdout"
        }
      ]
    },
    {
      "cell_type": "code",
      "metadata": {
        "colab": {
          "base_uri": "https://localhost:8080/"
        },
        "id": "W828_QX8WPlZ",
        "outputId": "139487df-d1d9-4dbd-a2d4-6ddb149462a9"
      },
      "source": [
        "#After Data has been splitted\n",
        "#Validation\n",
        "print(len(X_train))\n",
        "#Test\n",
        "print(len(y_train))\n"
      ],
      "execution_count": null,
      "outputs": [
        {
          "output_type": "stream",
          "text": [
            "40000\n",
            "10000\n"
          ],
          "name": "stdout"
        }
      ]
    },
    {
      "cell_type": "code",
      "metadata": {
        "id": "KiF78GQY4jrL"
      },
      "source": [
        "#labels\n",
        "labels = ('airplane', 'car', 'bird', 'cat', 'deer', 'dog', 'frog', 'horse', 'ship', 'truck')"
      ],
      "execution_count": null,
      "outputs": []
    },
    {
      "cell_type": "code",
      "metadata": {
        "colab": {
          "base_uri": "https://localhost:8080/"
        },
        "id": "YFwFozYR5I6y",
        "outputId": "9933abd1-8900-44ee-9c6e-086d5dbf4cb8"
      },
      "source": [
        "print(labels)"
      ],
      "execution_count": null,
      "outputs": [
        {
          "output_type": "stream",
          "text": [
            "('airplane', 'car', 'bird', 'cat', 'deer', 'dog', 'frog', 'horse', 'ship', 'truck')\n"
          ],
          "name": "stdout"
        }
      ]
    },
    {
      "cell_type": "code",
      "metadata": {
        "colab": {
          "base_uri": "https://localhost:8080/",
          "height": 260
        },
        "id": "jmSFEpddXW0n",
        "outputId": "de80b523-68e9-4736-fdd1-f934f125ed82"
      },
      "source": [
        "# Loading data to print some images\n",
        "from keras.datasets import cifar10\n",
        "(X_train1, y_train1), (X_test1, y_test1) = cifar10.load_data()\n",
        "import matplotlib.pyplot as plt\n",
        "# Having first 5 images using X_train and y_Train\n",
        "index1 = 0\n",
        "fig, axes = plt.subplots(ncols=5, nrows=2, figsize=(5,5))\n",
        "#Looping to display images\n",
        "for x in range(2):\n",
        "    for y in range(5):\n",
        "        #To set the title/label\n",
        "        axes[x,y].set_title(labels[y_train1[index1][0]])\n",
        "        #To print the image\n",
        "        axes[x,y].imshow(X_train1[index1])\n",
        "        #For x and y axis\n",
        "        axes[x,y].get_xaxis().set_visible(True)\n",
        "        axes[x,y].get_yaxis().set_visible(True)\n",
        "        #incrementing the index\n",
        "        index1 =index1+ 1\n",
        "plt.show()"
      ],
      "execution_count": null,
      "outputs": [
        {
          "output_type": "display_data",
          "data": {
            "image/png": "[encoded data removed]",
            "text/plain": [
              "<Figure size 360x360 with 10 Axes>"
            ]
          },
          "metadata": {
            "tags": [],
            "needs_background": "light"
          }
        }
      ]
    },
    {
      "cell_type": "code",
      "metadata": {
        "colab": {
          "base_uri": "https://localhost:8080/"
        },
        "id": "Fpw7IOUuLfUr",
        "outputId": "148ba686-97d9-43bb-fa1f-c214efac0434"
      },
      "source": [
        "#Here we have Pretrained AlexNet\n",
        "#Downloading it\n",
        "Alexnet = torch.hub.load('pytorch/vision:v0.6.0', 'alexnet', pretrained=True)"
      ],
      "execution_count": null,
      "outputs": [
        {
          "output_type": "stream",
          "text": [
            "Using cache found in /root/.cache/torch/hub/pytorch_vision_v0.6.0\n"
          ],
          "name": "stderr"
        }
      ]
    },
    {
      "cell_type": "code",
      "metadata": {
        "id": "BGozbIeiLfXL",
        "colab": {
          "base_uri": "https://localhost:8080/"
        },
        "outputId": "1660883b-d769-4dee-cbe4-584ebede7976"
      },
      "source": [
        "#Model Evaluation\n",
        "#To check for the features and classifiers\n",
        "Alexnet.eval()"
      ],
      "execution_count": null,
      "outputs": [
        {
          "output_type": "execute_result",
          "data": {
            "text/plain": [
              "AlexNet(\n",
              "  (features): Sequential(\n",
              "    (0): Conv2d(3, 64, kernel_size=(11, 11), stride=(4, 4), padding=(2, 2))\n",
              "    (1): ReLU(inplace=True)\n",
              "    (2): MaxPool2d(kernel_size=3, stride=2, padding=0, dilation=1, ceil_mode=False)\n",
              "    (3): Conv2d(64, 192, kernel_size=(5, 5), stride=(1, 1), padding=(2, 2))\n",
              "    (4): ReLU(inplace=True)\n",
              "    (5): MaxPool2d(kernel_size=3, stride=2, padding=0, dilation=1, ceil_mode=False)\n",
              "    (6): Conv2d(192, 384, kernel_size=(3, 3), stride=(1, 1), padding=(1, 1))\n",
              "    (7): ReLU(inplace=True)\n",
              "    (8): Conv2d(384, 256, kernel_size=(3, 3), stride=(1, 1), padding=(1, 1))\n",
              "    (9): ReLU(inplace=True)\n",
              "    (10): Conv2d(256, 256, kernel_size=(3, 3), stride=(1, 1), padding=(1, 1))\n",
              "    (11): ReLU(inplace=True)\n",
              "    (12): MaxPool2d(kernel_size=3, stride=2, padding=0, dilation=1, ceil_mode=False)\n",
              "  )\n",
              "  (avgpool): AdaptiveAvgPool2d(output_size=(6, 6))\n",
              "  (classifier): Sequential(\n",
              "    (0): Dropout(p=0.5, inplace=False)\n",
              "    (1): Linear(in_features=9216, out_features=4096, bias=True)\n",
              "    (2): ReLU(inplace=True)\n",
              "    (3): Dropout(p=0.5, inplace=False)\n",
              "    (4): Linear(in_features=4096, out_features=4096, bias=True)\n",
              "    (5): ReLU(inplace=True)\n",
              "    (6): Linear(in_features=4096, out_features=1000, bias=True)\n",
              "  )\n",
              ")"
            ]
          },
          "metadata": {
            "tags": []
          },
          "execution_count": 28
        }
      ]
    },
    {
      "cell_type": "code",
      "metadata": {
        "id": "NCYQqtbhLfZN",
        "colab": {
          "base_uri": "https://localhost:8080/"
        },
        "outputId": "958d83af-85a2-41c7-80fd-6bd6f08affde"
      },
      "source": [
        "#To avoid overfitting and at the end we have 10 labels only\n",
        "#Making changes into different layers\n",
        "Alexnet.classifier[1] = nn.Linear(9216,4096)\n",
        "Alexnet.classifier[4] = nn.Linear(4096,1024)\n",
        "Alexnet.classifier[6] = nn.Linear(1024,10)\n",
        "\n",
        "#Again evaluating and checking the changes\n",
        "Alexnet.eval()"
      ],
      "execution_count": null,
      "outputs": [
        {
          "output_type": "execute_result",
          "data": {
            "text/plain": [
              "AlexNet(\n",
              "  (features): Sequential(\n",
              "    (0): Conv2d(3, 64, kernel_size=(11, 11), stride=(4, 4), padding=(2, 2))\n",
              "    (1): ReLU(inplace=True)\n",
              "    (2): MaxPool2d(kernel_size=3, stride=2, padding=0, dilation=1, ceil_mode=False)\n",
              "    (3): Conv2d(64, 192, kernel_size=(5, 5), stride=(1, 1), padding=(2, 2))\n",
              "    (4): ReLU(inplace=True)\n",
              "    (5): MaxPool2d(kernel_size=3, stride=2, padding=0, dilation=1, ceil_mode=False)\n",
              "    (6): Conv2d(192, 384, kernel_size=(3, 3), stride=(1, 1), padding=(1, 1))\n",
              "    (7): ReLU(inplace=True)\n",
              "    (8): Conv2d(384, 256, kernel_size=(3, 3), stride=(1, 1), padding=(1, 1))\n",
              "    (9): ReLU(inplace=True)\n",
              "    (10): Conv2d(256, 256, kernel_size=(3, 3), stride=(1, 1), padding=(1, 1))\n",
              "    (11): ReLU(inplace=True)\n",
              "    (12): MaxPool2d(kernel_size=3, stride=2, padding=0, dilation=1, ceil_mode=False)\n",
              "  )\n",
              "  (avgpool): AdaptiveAvgPool2d(output_size=(6, 6))\n",
              "  (classifier): Sequential(\n",
              "    (0): Dropout(p=0.5, inplace=False)\n",
              "    (1): Linear(in_features=9216, out_features=4096, bias=True)\n",
              "    (2): ReLU(inplace=True)\n",
              "    (3): Dropout(p=0.5, inplace=False)\n",
              "    (4): Linear(in_features=4096, out_features=1024, bias=True)\n",
              "    (5): ReLU(inplace=True)\n",
              "    (6): Linear(in_features=1024, out_features=10, bias=True)\n",
              "  )\n",
              ")"
            ]
          },
          "metadata": {
            "tags": []
          },
          "execution_count": 29
        }
      ]
    },
    {
      "cell_type": "code",
      "metadata": {
        "colab": {
          "base_uri": "https://localhost:8080/"
        },
        "id": "CIlPskOcLfdd",
        "outputId": "64b98752-4728-46c3-ba5f-5c191b40d57a"
      },
      "source": [
        "#Checking the current device\n",
        "source = torch.device(\"cuda:0\" if torch.cuda.is_available() else \"cpu\")\n",
        "#Printing the current device\n",
        "#If it is working in GPU,it will print cuda:0 else cpu\n",
        "print(source)\n",
        "\n",
        "#Moving the input and Alexnet to GPU \n",
        "#It will speed up the process \n",
        "Alexnet.to(source)"
      ],
      "execution_count": null,
      "outputs": [
        {
          "output_type": "stream",
          "text": [
            "cuda:0\n"
          ],
          "name": "stdout"
        },
        {
          "output_type": "execute_result",
          "data": {
            "text/plain": [
              "AlexNet(\n",
              "  (features): Sequential(\n",
              "    (0): Conv2d(3, 64, kernel_size=(11, 11), stride=(4, 4), padding=(2, 2))\n",
              "    (1): ReLU(inplace=True)\n",
              "    (2): MaxPool2d(kernel_size=3, stride=2, padding=0, dilation=1, ceil_mode=False)\n",
              "    (3): Conv2d(64, 192, kernel_size=(5, 5), stride=(1, 1), padding=(2, 2))\n",
              "    (4): ReLU(inplace=True)\n",
              "    (5): MaxPool2d(kernel_size=3, stride=2, padding=0, dilation=1, ceil_mode=False)\n",
              "    (6): Conv2d(192, 384, kernel_size=(3, 3), stride=(1, 1), padding=(1, 1))\n",
              "    (7): ReLU(inplace=True)\n",
              "    (8): Conv2d(384, 256, kernel_size=(3, 3), stride=(1, 1), padding=(1, 1))\n",
              "    (9): ReLU(inplace=True)\n",
              "    (10): Conv2d(256, 256, kernel_size=(3, 3), stride=(1, 1), padding=(1, 1))\n",
              "    (11): ReLU(inplace=True)\n",
              "    (12): MaxPool2d(kernel_size=3, stride=2, padding=0, dilation=1, ceil_mode=False)\n",
              "  )\n",
              "  (avgpool): AdaptiveAvgPool2d(output_size=(6, 6))\n",
              "  (classifier): Sequential(\n",
              "    (0): Dropout(p=0.5, inplace=False)\n",
              "    (1): Linear(in_features=9216, out_features=4096, bias=True)\n",
              "    (2): ReLU(inplace=True)\n",
              "    (3): Dropout(p=0.5, inplace=False)\n",
              "    (4): Linear(in_features=4096, out_features=1024, bias=True)\n",
              "    (5): ReLU(inplace=True)\n",
              "    (6): Linear(in_features=1024, out_features=10, bias=True)\n",
              "  )\n",
              ")"
            ]
          },
          "metadata": {
            "tags": []
          },
          "execution_count": 30
        }
      ]
    },
    {
      "cell_type": "code",
      "metadata": {
        "colab": {
          "base_uri": "https://localhost:8080/"
        },
        "id": "mljUayIt-MFM",
        "outputId": "5780deb2-0f61-44de-ebbc-d2d14048347d"
      },
      "source": [
        "#Looking for the fully connected layers\n",
        "print(Alexnet.classifier[1])\n",
        "print(Alexnet.classifier[4])\n",
        "print(Alexnet.classifier[6])"
      ],
      "execution_count": null,
      "outputs": [
        {
          "output_type": "stream",
          "text": [
            "Linear(in_features=9216, out_features=4096, bias=True)\n",
            "Linear(in_features=4096, out_features=1024, bias=True)\n",
            "Linear(in_features=1024, out_features=10, bias=True)\n"
          ],
          "name": "stdout"
        }
      ]
    },
    {
      "cell_type": "code",
      "metadata": {
        "id": "FHfX13xcLffo",
        "colab": {
          "base_uri": "https://localhost:8080/"
        },
        "outputId": "7c71b84f-ca22-4119-fad1-cee12b9abae7"
      },
      "source": [
        "#Now finding optimizer and loss\n",
        "#Passing the momentum and learning rate as lr\n",
        "opti = optim.SGD(Alexnet.parameters(), lr=0.001, momentum=0.9)\n",
        "#Loss\n",
        "cr_loss = nn.CrossEntropyLoss()\n",
        "\n",
        "#Training the model\n",
        "#Looping over the training data set with  multiple epochs\n",
        "for epoch in range(6): \n",
        "    #Initiliase the loss with zero \n",
        "    loss_current = 0.0\n",
        "    #Looping over training data\n",
        "    for i, data in enumerate(y_train, 0):\n",
        "        #Extracting the inputs as images and labels\n",
        "        images, labels = data[0].to(source), data[1].to(source)\n",
        "        opti.zero_grad()\n",
        "        #Getting output by passing input/images to the alexnet model\n",
        "        output = Alexnet(images)\n",
        "        #Finding the loss by cross entropy\n",
        "        loss = cr_loss(output, labels)\n",
        "        loss.backward()\n",
        "        opti.step()\n",
        "        # Finding the loss for each epoch\n",
        "        loss_current =loss_current+ loss.item()\n",
        "        #Providing the condition\n",
        "        if i % 2000 == 1999:  \n",
        "            #Printing the Epoch and loss\n",
        "            print('[%d, %5d] loss: %.3f' % (epoch + 1, i + 1, loss_current / 2000))\n",
        "            loss_current = 0.0\n",
        "\n"
      ],
      "execution_count": null,
      "outputs": [
        {
          "output_type": "stream",
          "text": [
            "[1,  2000] loss: 1.207\n",
            "[1,  4000] loss: 0.914\n",
            "[1,  6000] loss: 0.799\n",
            "[1,  8000] loss: 0.740\n",
            "[1, 10000] loss: 0.695\n",
            "[2,  2000] loss: 0.534\n",
            "[2,  4000] loss: 0.552\n",
            "[2,  6000] loss: 0.536\n",
            "[2,  8000] loss: 0.521\n",
            "[2, 10000] loss: 0.510\n",
            "[3,  2000] loss: 0.349\n",
            "[3,  4000] loss: 0.385\n",
            "[3,  6000] loss: 0.384\n",
            "[3,  8000] loss: 0.382\n",
            "[3, 10000] loss: 0.377\n",
            "[4,  2000] loss: 0.239\n",
            "[4,  4000] loss: 0.270\n",
            "[4,  6000] loss: 0.286\n",
            "[4,  8000] loss: 0.288\n",
            "[4, 10000] loss: 0.295\n",
            "[5,  2000] loss: 0.167\n",
            "[5,  4000] loss: 0.192\n",
            "[5,  6000] loss: 0.214\n",
            "[5,  8000] loss: 0.207\n",
            "[5, 10000] loss: 0.245\n",
            "[6,  2000] loss: 0.138\n",
            "[6,  4000] loss: 0.144\n",
            "[6,  6000] loss: 0.175\n",
            "[6,  8000] loss: 0.188\n",
            "[6, 10000] loss: 0.171\n"
          ],
          "name": "stdout"
        }
      ]
    },
    {
      "cell_type": "code",
      "metadata": {
        "id": "b4bdqJtPLfjy",
        "colab": {
          "base_uri": "https://localhost:8080/"
        },
        "outputId": "e2d624c8-beb3-4511-c771-aad6e7011630"
      },
      "source": [
        "#Now over here\n",
        "#We have ALexnet classifier\n",
        "#We are taking the output of the fc6 layer \n",
        "Alexnet.classifier = nn.Sequential(*list(Alexnet.classifier.children())[:-3])\n",
        "#For y_train\n",
        "#Looping over the y_train\n",
        "for i, data in enumerate(y_train, 0):\n",
        "    #Taking the input in form of images and labels\n",
        "    images, labels = data[0], data[1]\n",
        "    #Passing the input(images) into the predefined model(Alexnet)\n",
        "    #Getting the output\n",
        "    output = Alexnet(images.to(source))\n",
        "    #Condition to get output and label\n",
        "    if i==0:\n",
        "        temp_output_training=output\n",
        "        temp_label_training=labels\n",
        "    #Appending output and label\n",
        "    temp_output_training=torch.vstack((temp_output_training,output))\n",
        "    temp_label_training=torch.cat((temp_label_training,labels))\n",
        "    #After this point the cuda got out of memory\n",
        "    if temp_output_training.shape[0]== 2100:\n",
        "        break\n",
        "\n",
        "#Now we need to train the linear classifier\n",
        "#Taking\n",
        "#Logistic Regression\n",
        "log_reg=linear_model.LogisticRegression( solver='liblinear',multi_class='ovr')\n",
        "#Fitting the logistic regression by getting back to cpu\n",
        "log_reg.fit(temp_output_training.cpu().detach().numpy(),temp_label_training.cpu().numpy())"
      ],
      "execution_count": null,
      "outputs": [
        {
          "output_type": "execute_result",
          "data": {
            "text/plain": [
              "LogisticRegression(C=1.0, class_weight=None, dual=False, fit_intercept=True,\n",
              "                   intercept_scaling=1, l1_ratio=None, max_iter=100,\n",
              "                   multi_class='ovr', n_jobs=None, penalty='l2',\n",
              "                   random_state=None, solver='liblinear', tol=0.0001, verbose=0,\n",
              "                   warm_start=False)"
            ]
          },
          "metadata": {
            "tags": []
          },
          "execution_count": 33
        }
      ]
    },
    {
      "cell_type": "code",
      "metadata": {
        "id": "tWjkvd5fLfoL",
        "colab": {
          "base_uri": "https://localhost:8080/"
        },
        "outputId": "0e880611-7463-4941-d4c8-884a342172ed"
      },
      "source": [
        "#For Validation loader\n",
        "#Looping over the validation set\n",
        "for i, data in enumerate(validation_loader, 0):\n",
        "    #Taking input(iamges) and labels\n",
        "    images, labels = data[0], data[1]\n",
        "    #Passing the input(images) into the model\n",
        "    #Getting the output\n",
        "    output = Alexnet(images.to(source))\n",
        "    #COndition to take output and labels\n",
        "    if i==0:\n",
        "        temp_output_validation=output\n",
        "        temp_label_validation=labels\n",
        "\n",
        "    #Appending them\n",
        "    temp_output_validation=torch.vstack((temp_output_validation,output))\n",
        "    temp_label_validation=torch.cat((temp_label_validation,labels))\n",
        "    #After this point the cuda got out of memory\n",
        "    if temp_output_validation.shape[0]== 400:\n",
        "        break\n",
        "\n",
        "#Finding the predictions\n",
        "#By passing the value\n",
        "y_predicted = log_reg.predict(temp_output_validation.cpu().detach().numpy())\n",
        "#print(y_predicted)\n",
        "\n",
        "#Finding the mathematical statistics to look for the working of it\n",
        "#Recall\n",
        "recall0=metrics.recall_score(temp_label_validation.cpu().numpy(), y_predicted,average='weighted')\n",
        "#Precison\n",
        "precision0=metrics.precision_score(temp_label_validation.cpu().numpy(), y_predicted,average='weighted')\n",
        "#F1 Score\n",
        "f1_score0=metrics.f1_score(temp_label_validation.cpu().numpy(), y_predicted,average='weighted')\n",
        "#Accuracy\n",
        "accuracy0=accuracy_score(temp_label_validation.cpu().numpy(), y_predicted)\n",
        "\n",
        "\n",
        "#Now printing them\n",
        "print(\"Validation\")\n",
        "print (\"Recall : \", recall0)\n",
        "print (\"Precision : \", precision0)\n",
        "print (\"F1 score : \",f1_score0 )\n",
        "print (\"Accuracy : \", accuracy0)\n"
      ],
      "execution_count": null,
      "outputs": [
        {
          "output_type": "stream",
          "text": [
            "Validation\n",
            "Recall :  0.815\n",
            "Precision :  0.8207617292617292\n",
            "F1 score :  0.8152579543051717\n",
            "Accuracy :  0.815\n"
          ],
          "name": "stdout"
        }
      ]
    },
    {
      "cell_type": "code",
      "metadata": {
        "colab": {
          "base_uri": "https://localhost:8080/",
          "height": 336
        },
        "id": "aoxx1UzFA9vg",
        "outputId": "9d8e3c26-e1d1-4b79-b9b3-175d90c6041a"
      },
      "source": [
        "#Plotting them\n",
        "import matplotlib.pyplot as plt\n",
        "fig = plt.figure()\n",
        "ax = fig.add_axes([0,0,1,1])\n",
        "Labels = ['Recall', 'Precision', 'F1 Score', 'Accuracy']\n",
        "Score = [recall0,precision0,f1_score0,accuracy0]\n",
        "ax.bar(Labels,Score)\n",
        "plt.show()"
      ],
      "execution_count": null,
      "outputs": [
        {
          "output_type": "display_data",
          "data": {
            "image/png": "[encoded data removed]",
            "text/plain": [
              "<Figure size 432x288 with 1 Axes>"
            ]
          },
          "metadata": {
            "tags": [],
            "needs_background": "light"
          }
        }
      ]
    },
    {
      "cell_type": "code",
      "metadata": {
        "colab": {
          "base_uri": "https://localhost:8080/"
        },
        "id": "dj2XAthQqnA8",
        "outputId": "c1caf989-dac9-4bd0-96f7-1ef6489f3a1c"
      },
      "source": [
        "#For Test\n",
        "#Looping over the test set\n",
        "for i, data in enumerate(y_test, 0):\n",
        "    #Taking the input into images and labels\n",
        "    images, labels = data[0], data[1]\n",
        "    #Passing the images(input) to our Alexnet model\n",
        "    #Finding the output from it\n",
        "    output = Alexnet(images.to(source))\n",
        "    #Storing the output and labels\n",
        "    if i==0:\n",
        "        temp_output_test=output\n",
        "        temp_label_test=labels\n",
        "    #Appending them\n",
        "    temp_output_test=torch.vstack((temp_output_test,output))\n",
        "    temp_label_test=torch.cat((temp_label_test,labels))\n",
        "    #After this point the cuda got out of memory\n",
        "    if temp_output_test.shape[0]== 400:\n",
        "        break\n",
        "\n",
        "\n",
        "#Finding the predictions\n",
        "y_predicted = log_reg.predict(temp_output_test.cpu().detach().numpy())\n",
        "#print(y_predicted)\n",
        "\n",
        "#Finding the mathematical statistics to look for the working of it\n",
        "#Recall\n",
        "recall1=metrics.recall_score(temp_label_test.cpu().numpy(), y_predicted,average='weighted')\n",
        "#Precision\n",
        "precision1=metrics.precision_score(temp_label_test.cpu().numpy(), y_predicted,average='weighted')\n",
        "#F1 score\n",
        "f1_score1=metrics.f1_score(temp_label_test.cpu().numpy(), y_predicted,average='weighted')\n",
        "#Accuracy\n",
        "accuracy1=accuracy_score(temp_label_test.cpu().numpy(), y_predicted)\n",
        "\n",
        "\n",
        "#Now printing them\n",
        "print(\"Test\")\n",
        "print (\"Recall : \", recall1)\n",
        "print (\"Precision : \",precison1)\n",
        "print (\"F1 score : \", f1_score1)\n",
        "print (\"Accuracy : \", accuracy1)"
      ],
      "execution_count": null,
      "outputs": [
        {
          "output_type": "stream",
          "text": [
            "Test\n",
            "Recall :  0.8175\n",
            "Precision :  0.8239088057046915\n",
            "F1 score :  0.8186488114665065\n",
            "Accuracy :  0.8175\n"
          ],
          "name": "stdout"
        }
      ]
    },
    {
      "cell_type": "code",
      "metadata": {
        "id": "2lqp8t2pCNmg",
        "colab": {
          "base_uri": "https://localhost:8080/",
          "height": 336
        },
        "outputId": "9f5a3ba4-36dd-4b0e-c48e-ff4b7d0dbb0b"
      },
      "source": [
        "#Plotting them\n",
        "import matplotlib.pyplot as plt\n",
        "fig = plt.figure()\n",
        "ax = fig.add_axes([0,0,1,1])\n",
        "Labels = ['Recall', 'Precision', 'F1 Score', 'Accuracy']\n",
        "Score = [recall1,precision1,f1_score1,accuracy1]\n",
        "ax.bar(Labels,Score)\n",
        "plt.show()"
      ],
      "execution_count": 2,
      "outputs": [
        {
          "output_type": "display_data",
          "data": {
            "image/png": "[encoded data removed]",
            "text/plain": [
              "<Figure size 432x288 with 1 Axes>"
            ]
          },
          "metadata": {
            "tags": [],
            "needs_background": "light"
          }
        }
      ]
    }
  ]
}